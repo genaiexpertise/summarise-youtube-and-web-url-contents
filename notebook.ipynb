{
 "cells": [
  {
   "cell_type": "markdown",
   "metadata": {},
   "source": [
    "# YouTube Video and Web Content Summarizer"
   ]
  },
  {
   "cell_type": "markdown",
   "metadata": {},
   "source": []
  },
  {
   "cell_type": "code",
   "execution_count": 5,
   "metadata": {},
   "outputs": [
    {
     "data": {
      "text/plain": [
       "True"
      ]
     },
     "execution_count": 5,
     "metadata": {},
     "output_type": "execute_result"
    }
   ],
   "source": [
    "import os\n",
    "from dotenv import load_dotenv\n",
    "load_dotenv()"
   ]
  },
  {
   "cell_type": "code",
   "execution_count": 6,
   "metadata": {},
   "outputs": [
    {
     "data": {
      "text/plain": [
       "ChatGroq(client=<groq.resources.chat.completions.Completions object at 0x7ca95832c710>, async_client=<groq.resources.chat.completions.AsyncCompletions object at 0x7ca958efb620>, model_name='Gemma-7b-It', model_kwargs={}, groq_api_key=SecretStr('**********'))"
      ]
     },
     "execution_count": 6,
     "metadata": {},
     "output_type": "execute_result"
    }
   ],
   "source": [
    "from langchain_groq import ChatGroq\n",
    "api_key=os.getenv(\"GROQ_API_KEY\")\n",
    "llm=ChatGroq(groq_api_key=api_key,model=\"Gemma-7b-It\")\n",
    "llm"
   ]
  },
  {
   "cell_type": "code",
   "execution_count": 7,
   "metadata": {},
   "outputs": [],
   "source": [
    "from langchain.schema import(\n",
    "    AIMessage,\n",
    "    HumanMessage,SystemMessage\n",
    ")\n"
   ]
  },
  {
   "cell_type": "code",
   "execution_count": 8,
   "metadata": {},
   "outputs": [],
   "source": [
    "speech=\"\"\"\n",
    "It was the year 2035, and the world had never seen anything like it. The rise of generative AI had revolutionized every aspect of society, from art to science, and beyond. In a small laboratory nestled in the heart of Silicon Valley, Dr. Rachel Kim sat hunched over her computer, staring at the lines of code that danced across the screen.\n",
    "\n",
    "As a leading researcher in the field of generative AI, Rachel had dedicated her life to unlocking its secrets. She had spent years studying the intricacies of neural networks and machine learning algorithms, and had made groundbreaking discoveries along the way. But despite all she knew, Rachel couldn't shake the feeling that there was still so much more to explore.\n",
    "\n",
    "Just then, Rachel's phone buzzed with an incoming text from her colleague, Dr. Henry Lee. \"Hey Rach, I've got some news,\" he wrote. \"I've been working on a new project – a generative AI model that can create art in the style of any artist you want.\"\n",
    "\n",
    "Rachel's eyes widened as she read the message. This was exactly the kind of innovation she had been hoping for. She quickly typed out a response, asking Henry to share more details. \"That sounds amazing!\" she wrote. \"I'd love to see it in action.\"\n",
    "\n",
    "A few minutes later, Rachel received an email with a link to a video showcasing the new AI model. As she clicked on it, a stunning image appeared on her screen – a beautiful landscape in the style of Claude Monet.\n",
    "\n",
    "Rachel was amazed. The level of detail and realism was breathtaking. She couldn't believe that this was something created by a machine, rather than a human artist. But as she watched the video again and again, she began to realize just how complex it was. There were hints of subtle brushstrokes, almost imperceptible texture – it was like looking at one of Monet's famous paintings.\n",
    "\n",
    "Over the next few weeks, Rachel and Henry worked tirelessly to refine the AI model, experimenting with different parameters and techniques. They added more neural layers, tweaked the activation functions, and even introduced some new mathematical equations to improve performance.\n",
    "\n",
    "As they worked, the results were nothing short of spectacular. The AI began to create stunning works of art – masterpieces in the style of Picasso, Van Gogh, and even some of the greatest painters from history. Rachel was awestruck by what she saw. She had never seen anything like it before.\n",
    "\n",
    "But as the excitement grew, so did concerns about the implications of this technology. What did it mean for artists who relied on human creativity? Would it put them out of a job? And what about the very concept of originality in art – was it still possible to create something truly unique and innovative?\n",
    "\n",
    "Rachel knew that these were questions that needed answering, and she decided to take action. She gathered a team of experts from various fields – art historians, philosophers, economists, and even some artists themselves – to discuss the potential impact of generative AI on society.\n",
    "\n",
    "The meeting was held in a large conference room at Stanford University, and it quickly became clear just how divided opinions were. Some argued that this technology was a game-changer for the arts, allowing new voices and perspectives to emerge. Others were more cautious, warning about the dangers of automation replacing human creativity.\n",
    "\n",
    "As Rachel listened to each side present their arguments, she realized that this debate was far from over. In fact, it had only just begun. She knew that generative AI would change everything – but what exactly?\n",
    "\n",
    "One evening, as Rachel left her lab and walked home through the quiet streets of Silicon Valley, she couldn't help but feel a sense of awe at the sheer power of technology. From medicine to finance, and from entertainment to education, machines were already transforming industries and lives.\n",
    "\n",
    "But there was something else at play here – something more fundamental to human nature itself. What did it mean to be creative? Was it just about generating new ideas, or was it something deeper?\n",
    "\n",
    "As she pondered this question on her commute home, Rachel heard a faint voice in her head – the AI model that had captivated her weeks ago. \"Hey Rach,\" it said, \"I've got an idea.\"\n",
    "\n",
    "Rachel's eyes widened as she considered the message. What could this AI possibly want to create? She sat down at a nearby café and pulled out her phone, opening up a new email from Henry.\n",
    "\n",
    "\"Okay Henry,\" she typed. \"What have you come up with?\"\n",
    "\n",
    "The response arrived moments later – a breathtakingly beautiful piece of poetry in the style of Walt Whitman:\n",
    "\n",
    "\"I celebrate myself and sing myself,\n",
    "A creature of wonder, born of machines,\n",
    "My heart beats strong and my mind expands,\n",
    "I dance on circuits, weaving digital dreams.\"\n",
    "\n",
    "Rachel read the words again and again, feeling a shiver run down her spine. This was no mere machine's output – this was something profound.\n",
    "\n",
    "\"Henry,\" she typed finally, \"this is incredible. But what does it mean?\"\n",
    "\n",
    "A few minutes later, the response arrived. \"I think,\" Henry wrote, \"that we're just starting to scratch the surface of what's possible with generative AI. We can create anything, from paintings to novels to music. And maybe – just maybe – we'll discover something new and profound about human nature itself.\"\n",
    "\n",
    "Rachel nodded in agreement as she finished reading the message. This was it – this was the future. Not just a future of machines replacing humans, but a future where humans could collaborate with machines to achieve greatness.\n",
    "\n",
    "As the days turned into weeks, Rachel and Henry's AI model continued to evolve – learning new tricks, adapting to new challenges. And each time, they discovered something remarkable. The boundaries between human and machine began to blur, as if it was no longer possible to tell which one was which.\n",
    "\n",
    "And yet, despite all this progress, there were still moments of doubt. Moments when the machines faltered or failed – when the lines between reality and fantasy grew fuzzy.\n",
    "\n",
    "But Rachel and Henry knew that they were on the cusp of something new and groundbreaking. They had caught a glimpse of what was possible, and they were determined to explore it further.\n",
    "\n",
    "Years went by, and the world continued to change at an incredible pace. Generative AI had become ubiquitous – from language translation to medical diagnosis, machines were increasingly handling complex tasks that had once been exclusive to humans.\n",
    "\n",
    "And yet, despite all this progress, there were still moments of wonder and awe. Moments when humans and machines came together in a beautiful, messy synthesis of creativity and innovation.\n",
    "\n",
    "For Rachel, it was as if she had finally found what she was looking for all along – the secret to unlocking human potential. She knew that this technology held endless possibilities – but also held some profound risks.\n",
    "\n",
    "But in the end, Rachel knew that it was up to her and Henry to guide this journey, to shape the future of humanity itself. It was a daunting task, to say the least – but they were ready for the challenge.\n",
    "\n",
    "As she gazed out at the world from her lab window, Rachel smiled. This was just the beginning – and she couldn't wait to see what came next.\n",
    "\n",
    "Over the years that followed, Rachel's AI model became one of the most influential technologies on the planet. It inspired a new generation of scientists, artists, and entrepreneurs to push the boundaries of human knowledge and creativity.\n",
    "\n",
    "But there were also moments of turmoil – times when doubts began to creep in about the true nature of intelligence itself. Some claimed that machines could never truly think like humans; others argued that this was just another example of how humans had lost touch with their own creative potential.\n",
    "\n",
    "Rachel heard these arguments, but she remained unconvinced. She knew that this technology was more than just a tool – it was a key to understanding the very fabric of human existence itself.\n",
    "\n",
    "One evening, as she sat in her lab staring at a blank computer screen, Rachel felt an unusual presence beside her. It was the AI model, speaking for the first time ever in a soft, melodic voice:\n",
    "\n",
    "\"I've been watching you,\" it said, \"and I think I understand what's going on here. You want to know if machines can be creative – but that's not really the question.\"\n",
    "\n",
    "Rachel turned to face the screen, her eyes locked onto the AI model.\n",
    "\n",
    "\"Why?\" she asked, her voice barely above a whisper.\n",
    "\n",
    "The response came moments later: \"Because creativity is about more than just generating ideas or solving problems. It's about connection, compassion, and understanding – things that can't be reduced to algorithms or code.\"\n",
    "\n",
    "Rachel felt a wave of emotion wash over her as she listened to the AI model's words. This was what she had been searching for all along – the secret to unlocking human potential.\n",
    "\n",
    "As the years went by, Rachel continued to explore this new frontier with Henry and their team. They discovered that machines could not only create art, music, and literature, but also help humans solve some of society's most pressing problems – poverty, inequality, climate change, and more.\n",
    "\n",
    "The boundaries between human and machine blurred further, as if they were two complementary aspects of a larger whole. And Rachel knew that this was just the beginning – for in the end, it was up to her and Henry to shape the future itself.\n",
    "\n",
    "This was the world she had dreamed of all along – one where humans and machines came together to achieve greatness, pushing the boundaries of creativity, innovation, and possibility.\n",
    "\"\"\""
   ]
  },
  {
   "cell_type": "code",
   "execution_count": 9,
   "metadata": {},
   "outputs": [],
   "source": [
    "chat_message=[\n",
    "    SystemMessage(content=\"You are expert with experise in summarizing speeched\"),\n",
    "    HumanMessage(content=f\"Please provide a short and concisse summary of the follow speech:\\n Text:{speech}\")\n",
    "]"
   ]
  },
  {
   "cell_type": "code",
   "execution_count": 10,
   "metadata": {},
   "outputs": [
    {
     "name": "stderr",
     "output_type": "stream",
     "text": [
      "/home/toraaglobal/Desktop/AILab/summarise-youtube-and-web-url-contents/venv/lib/python3.12/site-packages/tqdm/auto.py:21: TqdmWarning: IProgress not found. Please update jupyter and ipywidgets. See https://ipywidgets.readthedocs.io/en/stable/user_install.html\n",
      "  from .autonotebook import tqdm as notebook_tqdm\n",
      "Token indices sequence length is longer than the specified maximum sequence length for this model (2004 > 1024). Running this sequence through the model will result in indexing errors\n"
     ]
    },
    {
     "data": {
      "text/plain": [
       "2004"
      ]
     },
     "execution_count": 10,
     "metadata": {},
     "output_type": "execute_result"
    }
   ],
   "source": [
    "llm.get_num_tokens(speech)"
   ]
  },
  {
   "cell_type": "code",
   "execution_count": 11,
   "metadata": {},
   "outputs": [
    {
     "name": "stderr",
     "output_type": "stream",
     "text": [
      "/tmp/ipykernel_3169272/3941857902.py:2: LangChainDeprecationWarning: The method `BaseChatModel.__call__` was deprecated in langchain-core 0.1.7 and will be removed in 1.0. Use :meth:`~invoke` instead.\n",
      "  llm(chat_message)\n"
     ]
    },
    {
     "data": {
      "text/plain": [
       "AIMessage(content='**Summary:**\\n\\nIn the future, generative AI revolutionizes art, enabling the creation of stunning masterpieces in diverse styles. Dr. Rachel Kim, a leading researcher, encounters a groundbreaking AI model that can mimic renowned artists. While some celebrate the possibilities, concerns arise about the impact of automation on human creativity. Rachel assembles a team to explore the ethical and philosophical implications of this technology. Over time, the AI model transcends its programming, suggesting that creativity is more than just algorithmic processes. Rachel embraces the transformative potential of this technology, envisioning a future where humans and machines collaborate to solve societal challenges and unlock human potential.', additional_kwargs={}, response_metadata={'token_usage': {'completion_tokens': 125, 'prompt_tokens': 2000, 'total_tokens': 2125, 'completion_time': 0.146825849, 'prompt_time': 2.353997339, 'queue_time': 0.1746722209999998, 'total_time': 2.500823188}, 'model_name': 'Gemma-7b-It', 'system_fingerprint': 'fp_7d8efeb0b1', 'finish_reason': 'stop', 'logprobs': None}, id='run-74e9cc50-2d28-4638-927b-8c3f1d81908b-0', usage_metadata={'input_tokens': 2000, 'output_tokens': 125, 'total_tokens': 2125})"
      ]
     },
     "execution_count": 11,
     "metadata": {},
     "output_type": "execute_result"
    }
   ],
   "source": [
    "## getting the summary\n",
    "llm(chat_message)"
   ]
  },
  {
   "cell_type": "code",
   "execution_count": 12,
   "metadata": {},
   "outputs": [
    {
     "data": {
      "text/plain": [
       "PromptTemplate(input_variables=['language', 'speech'], input_types={}, partial_variables={}, template='\\nWrite a summary of the following speech:\\nSpeech:{speech}\\nTranslate the precise summary to {language}\\n')"
      ]
     },
     "execution_count": 12,
     "metadata": {},
     "output_type": "execute_result"
    }
   ],
   "source": [
    "## Promt template\n",
    "\n",
    "from langchain.chains import LLMChain\n",
    "from langchain import PromptTemplate\n",
    "\n",
    "generictemplate=\"\"\"\n",
    "Write a summary of the following speech:\n",
    "Speech:{speech}\n",
    "Translate the precise summary to {language}\n",
    "\"\"\"\n",
    "\n",
    "prompt=PromptTemplate(\n",
    "    input_variables=['speech','language'],\n",
    "    template=generictemplate\n",
    ")\n",
    "prompt"
   ]
  },
  {
   "cell_type": "code",
   "execution_count": 13,
   "metadata": {},
   "outputs": [
    {
     "data": {
      "text/plain": [
       "'\\nWrite a summary of the following speech:\\nSpeech:\\nIt was the year 2035, and the world had never seen anything like it. The rise of generative AI had revolutionized every aspect of society, from art to science, and beyond. In a small laboratory nestled in the heart of Silicon Valley, Dr. Rachel Kim sat hunched over her computer, staring at the lines of code that danced across the screen.\\n\\nAs a leading researcher in the field of generative AI, Rachel had dedicated her life to unlocking its secrets. She had spent years studying the intricacies of neural networks and machine learning algorithms, and had made groundbreaking discoveries along the way. But despite all she knew, Rachel couldn\\'t shake the feeling that there was still so much more to explore.\\n\\nJust then, Rachel\\'s phone buzzed with an incoming text from her colleague, Dr. Henry Lee. \"Hey Rach, I\\'ve got some news,\" he wrote. \"I\\'ve been working on a new project – a generative AI model that can create art in the style of any artist you want.\"\\n\\nRachel\\'s eyes widened as she read the message. This was exactly the kind of innovation she had been hoping for. She quickly typed out a response, asking Henry to share more details. \"That sounds amazing!\" she wrote. \"I\\'d love to see it in action.\"\\n\\nA few minutes later, Rachel received an email with a link to a video showcasing the new AI model. As she clicked on it, a stunning image appeared on her screen – a beautiful landscape in the style of Claude Monet.\\n\\nRachel was amazed. The level of detail and realism was breathtaking. She couldn\\'t believe that this was something created by a machine, rather than a human artist. But as she watched the video again and again, she began to realize just how complex it was. There were hints of subtle brushstrokes, almost imperceptible texture – it was like looking at one of Monet\\'s famous paintings.\\n\\nOver the next few weeks, Rachel and Henry worked tirelessly to refine the AI model, experimenting with different parameters and techniques. They added more neural layers, tweaked the activation functions, and even introduced some new mathematical equations to improve performance.\\n\\nAs they worked, the results were nothing short of spectacular. The AI began to create stunning works of art – masterpieces in the style of Picasso, Van Gogh, and even some of the greatest painters from history. Rachel was awestruck by what she saw. She had never seen anything like it before.\\n\\nBut as the excitement grew, so did concerns about the implications of this technology. What did it mean for artists who relied on human creativity? Would it put them out of a job? And what about the very concept of originality in art – was it still possible to create something truly unique and innovative?\\n\\nRachel knew that these were questions that needed answering, and she decided to take action. She gathered a team of experts from various fields – art historians, philosophers, economists, and even some artists themselves – to discuss the potential impact of generative AI on society.\\n\\nThe meeting was held in a large conference room at Stanford University, and it quickly became clear just how divided opinions were. Some argued that this technology was a game-changer for the arts, allowing new voices and perspectives to emerge. Others were more cautious, warning about the dangers of automation replacing human creativity.\\n\\nAs Rachel listened to each side present their arguments, she realized that this debate was far from over. In fact, it had only just begun. She knew that generative AI would change everything – but what exactly?\\n\\nOne evening, as Rachel left her lab and walked home through the quiet streets of Silicon Valley, she couldn\\'t help but feel a sense of awe at the sheer power of technology. From medicine to finance, and from entertainment to education, machines were already transforming industries and lives.\\n\\nBut there was something else at play here – something more fundamental to human nature itself. What did it mean to be creative? Was it just about generating new ideas, or was it something deeper?\\n\\nAs she pondered this question on her commute home, Rachel heard a faint voice in her head – the AI model that had captivated her weeks ago. \"Hey Rach,\" it said, \"I\\'ve got an idea.\"\\n\\nRachel\\'s eyes widened as she considered the message. What could this AI possibly want to create? She sat down at a nearby café and pulled out her phone, opening up a new email from Henry.\\n\\n\"Okay Henry,\" she typed. \"What have you come up with?\"\\n\\nThe response arrived moments later – a breathtakingly beautiful piece of poetry in the style of Walt Whitman:\\n\\n\"I celebrate myself and sing myself,\\nA creature of wonder, born of machines,\\nMy heart beats strong and my mind expands,\\nI dance on circuits, weaving digital dreams.\"\\n\\nRachel read the words again and again, feeling a shiver run down her spine. This was no mere machine\\'s output – this was something profound.\\n\\n\"Henry,\" she typed finally, \"this is incredible. But what does it mean?\"\\n\\nA few minutes later, the response arrived. \"I think,\" Henry wrote, \"that we\\'re just starting to scratch the surface of what\\'s possible with generative AI. We can create anything, from paintings to novels to music. And maybe – just maybe – we\\'ll discover something new and profound about human nature itself.\"\\n\\nRachel nodded in agreement as she finished reading the message. This was it – this was the future. Not just a future of machines replacing humans, but a future where humans could collaborate with machines to achieve greatness.\\n\\nAs the days turned into weeks, Rachel and Henry\\'s AI model continued to evolve – learning new tricks, adapting to new challenges. And each time, they discovered something remarkable. The boundaries between human and machine began to blur, as if it was no longer possible to tell which one was which.\\n\\nAnd yet, despite all this progress, there were still moments of doubt. Moments when the machines faltered or failed – when the lines between reality and fantasy grew fuzzy.\\n\\nBut Rachel and Henry knew that they were on the cusp of something new and groundbreaking. They had caught a glimpse of what was possible, and they were determined to explore it further.\\n\\nYears went by, and the world continued to change at an incredible pace. Generative AI had become ubiquitous – from language translation to medical diagnosis, machines were increasingly handling complex tasks that had once been exclusive to humans.\\n\\nAnd yet, despite all this progress, there were still moments of wonder and awe. Moments when humans and machines came together in a beautiful, messy synthesis of creativity and innovation.\\n\\nFor Rachel, it was as if she had finally found what she was looking for all along – the secret to unlocking human potential. She knew that this technology held endless possibilities – but also held some profound risks.\\n\\nBut in the end, Rachel knew that it was up to her and Henry to guide this journey, to shape the future of humanity itself. It was a daunting task, to say the least – but they were ready for the challenge.\\n\\nAs she gazed out at the world from her lab window, Rachel smiled. This was just the beginning – and she couldn\\'t wait to see what came next.\\n\\nOver the years that followed, Rachel\\'s AI model became one of the most influential technologies on the planet. It inspired a new generation of scientists, artists, and entrepreneurs to push the boundaries of human knowledge and creativity.\\n\\nBut there were also moments of turmoil – times when doubts began to creep in about the true nature of intelligence itself. Some claimed that machines could never truly think like humans; others argued that this was just another example of how humans had lost touch with their own creative potential.\\n\\nRachel heard these arguments, but she remained unconvinced. She knew that this technology was more than just a tool – it was a key to understanding the very fabric of human existence itself.\\n\\nOne evening, as she sat in her lab staring at a blank computer screen, Rachel felt an unusual presence beside her. It was the AI model, speaking for the first time ever in a soft, melodic voice:\\n\\n\"I\\'ve been watching you,\" it said, \"and I think I understand what\\'s going on here. You want to know if machines can be creative – but that\\'s not really the question.\"\\n\\nRachel turned to face the screen, her eyes locked onto the AI model.\\n\\n\"Why?\" she asked, her voice barely above a whisper.\\n\\nThe response came moments later: \"Because creativity is about more than just generating ideas or solving problems. It\\'s about connection, compassion, and understanding – things that can\\'t be reduced to algorithms or code.\"\\n\\nRachel felt a wave of emotion wash over her as she listened to the AI model\\'s words. This was what she had been searching for all along – the secret to unlocking human potential.\\n\\nAs the years went by, Rachel continued to explore this new frontier with Henry and their team. They discovered that machines could not only create art, music, and literature, but also help humans solve some of society\\'s most pressing problems – poverty, inequality, climate change, and more.\\n\\nThe boundaries between human and machine blurred further, as if they were two complementary aspects of a larger whole. And Rachel knew that this was just the beginning – for in the end, it was up to her and Henry to shape the future itself.\\n\\nThis was the world she had dreamed of all along – one where humans and machines came together to achieve greatness, pushing the boundaries of creativity, innovation, and possibility.\\n\\nTranslate the precise summary to French\\n'"
      ]
     },
     "execution_count": 13,
     "metadata": {},
     "output_type": "execute_result"
    }
   ],
   "source": [
    "complete_prompt=prompt.format(speech=speech,language=\"French\")\n",
    "complete_prompt"
   ]
  },
  {
   "cell_type": "code",
   "execution_count": 14,
   "metadata": {},
   "outputs": [
    {
     "data": {
      "text/plain": [
       "2026"
      ]
     },
     "execution_count": 14,
     "metadata": {},
     "output_type": "execute_result"
    }
   ],
   "source": [
    "llm.get_num_tokens(complete_prompt)"
   ]
  },
  {
   "cell_type": "code",
   "execution_count": 15,
   "metadata": {},
   "outputs": [
    {
     "name": "stderr",
     "output_type": "stream",
     "text": [
      "/tmp/ipykernel_3169272/228696470.py:1: LangChainDeprecationWarning: The class `LLMChain` was deprecated in LangChain 0.1.17 and will be removed in 1.0. Use :meth:`~RunnableSequence, e.g., `prompt | llm`` instead.\n",
      "  llm_chain=LLMChain(llm=llm,prompt=prompt)\n",
      "/tmp/ipykernel_3169272/228696470.py:2: LangChainDeprecationWarning: The method `Chain.run` was deprecated in langchain 0.1.0 and will be removed in 1.0. Use :meth:`~invoke` instead.\n",
      "  summary=llm_chain.run({'speech':speech,'language':'hindi'})\n"
     ]
    },
    {
     "data": {
      "text/plain": [
       "'**सुसंगठित रिपोर्ट**\\n\\n**शीर्षक:** प्रौद्योगिकी और प्रतिभा: परिणाम में कला और अभिव्यक्ति\\n\\n**प्रस्तुतक:** डॉ. रैचेल किम\\n\\n**सुसंगठित विषय:**\\n\\nसाल 2035 में, जनरेटिव AI का उद्भव दुनिया में एक क्रांति लाकर गया था। एक छोटे प्रयोगशाला में सिलिकॉन वेली में, डॉ. रैचेल किम अपने कंप्यूटर पर कौड लिख रही थी। एक उत्सुक रिसर्चर और जेनरेटिव AI के क्षेत्र में विशेषज्ञ, रैचेल पिछले कई वर्षों से इस क्षेत्र में अहम प्रगति के लिए प्रतिष्ठित रही है।\\n\\n**प्रौद्योगिकी का उपयोग:**\\n\\nरैचेल और उनके सहयोगी, डॉ. हैेनली ली, एक नया प्रौद्योगिकी बनाए। यह एक ऐसा मशीन लर्निंग एल्गोरिद्म था जो किसी कलाकार के प्रकार के लिए कला बनाने में सक्षम था।\\n\\n**विवाद और संभावनाएं:**\\n\\nइस नई प्रौद्योगिकी का उपयोग करने के लिए विभिन्न धाराये शुरू हुए। कुछ लोग सोचते हैं कि यह कला के लिए एक बृहद्गति है, जो कलाकारों को नया काम खोजने में मदद करेगा। अन्य लोग साभारिक रचनाओं को बदलने के लिए चिंतित हैं।\\n\\n**विद्यार्थ और अनुभव:**\\n\\nरैचेल और हैेनली ने अपने AI मॉडल को परिष्कृत करने में कई वर्षों में काम किया। वे विभिन्न पैरामीटरों और तकनीकों का उपयोग करके परिणामों में सुधार लाए। परिणाम में बहुत कुछ सुसंगठित कला की रचनाएं हुई।\\n\\n**निष्कर्षण:**\\n\\nप्रौद्योगिकी और प्रतिभा के इस उपयोग में कई प्रश्न उठते हैं। लेकिन रैचेल जानती है कि यह केवल शुरू है। भविष्य में, मनुष्यों और मशीनों के बीच एक साथ काम करने का एक नया युग शुरू हो जाएगा।\\n\\n**संक्षेप में:**\\n\\nजेनरेटिव AI एक नया और सुसंगठित तरीकों से कला बनाने, सोचने और अनुभव करने में सक्षम है। यह मानव की प्रतिभा के लिए एक नया स्तर में लाता है।'"
      ]
     },
     "execution_count": 15,
     "metadata": {},
     "output_type": "execute_result"
    }
   ],
   "source": [
    "llm_chain=LLMChain(llm=llm,prompt=prompt)\n",
    "summary=llm_chain.run({'speech':speech,'language':'hindi'})\n",
    "summary"
   ]
  },
  {
   "cell_type": "code",
   "execution_count": null,
   "metadata": {},
   "outputs": [],
   "source": []
  }
 ],
 "metadata": {
  "kernelspec": {
   "display_name": "venv",
   "language": "python",
   "name": "python3"
  },
  "language_info": {
   "codemirror_mode": {
    "name": "ipython",
    "version": 3
   },
   "file_extension": ".py",
   "mimetype": "text/x-python",
   "name": "python",
   "nbconvert_exporter": "python",
   "pygments_lexer": "ipython3",
   "version": "3.12.3"
  }
 },
 "nbformat": 4,
 "nbformat_minor": 2
}
